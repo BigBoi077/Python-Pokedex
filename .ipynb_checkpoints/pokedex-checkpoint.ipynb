{
 "cells": [
  {
   "cell_type": "code",
   "execution_count": 1,
   "metadata": {},
   "outputs": [],
   "source": [
    "#!pip install wxpython\n",
    "#!pip install -U -f https://extras.wxpython.org/wxPython4/extras/linux/gtk3/ubuntu-18.04/ wxPython\n",
    "#!pip install wget"
   ]
  },
  {
   "cell_type": "code",
   "execution_count": 2,
   "metadata": {},
   "outputs": [],
   "source": [
    "import requests\n",
    "import json as JSON\n",
    "import wx as WX\n",
    "import base64\n",
    "import requests\n",
    "import shutil\n",
    "import os \n",
    "from PIL import Image"
   ]
  },
  {
   "cell_type": "code",
   "execution_count": 3,
   "metadata": {},
   "outputs": [],
   "source": [
    "class App():\n",
    "    def __init__(self, title, pokemons):\n",
    "        self.app = WX.App()\n",
    "        self.pokemons = pokemons\n",
    "        self.initFrame(title)\n",
    "        self.nbrPokemons = 0\n",
    "        self.downloadEnabled = False\n",
    "        \n",
    "    def initFrame(self, title):\n",
    "        frame = WX.Frame(parent=None, title=title)\n",
    "        frame.Center()\n",
    "        frame.Show()\n",
    "        \n",
    "    def setNbrPokemons(self, num):\n",
    "        self.nbrPokemons = num\n",
    "        \n",
    "    def start(self):\n",
    "        print(\"All Pokemons are registered\")\n",
    "        self.app.MainLoop()"
   ]
  },
  {
   "cell_type": "code",
   "execution_count": 4,
   "metadata": {},
   "outputs": [],
   "source": [
    "class Pokemon():\n",
    "    def __init__(self, json):\n",
    "        self.id = json['id']\n",
    "        self.names = json['name']\n",
    "        self.stats = json['base']\n",
    "        self.types = json['type']\n",
    "        self.imageUrl = f\"https://raw.githubusercontent.com/PokeAPI/sprites/master/sprites/pokemon/other/official-artwork/{self.id}.png\""
   ]
  },
  {
   "cell_type": "code",
   "execution_count": 5,
   "metadata": {},
   "outputs": [],
   "source": [
    "def showHeader():\n",
    "    print(\"Number of Pokemons {}\\n\".format(len(json)))\n",
    "    app.setNbrPokemons(len(json))\n",
    "\n",
    "def handleData(url):\n",
    "    response = requests.get(url)\n",
    "    jsonContent = response.json() \n",
    "    createPokemons(jsonContent)\n",
    "\n",
    "def createPokemons(json):\n",
    "    for singlePokemon in json:\n",
    "        createPokemon(singlePokemon)\n",
    "\n",
    "def downloadImage(imageUrl, pokemonFileName):\n",
    "    img = Image.open(requests.get(imageUrl, stream = True).raw)\n",
    "    img.save(f\"./Pokemon-Images/{pokemonFileName}.png\")\n",
    "        \n",
    "def createPokemon(json):\n",
    "    pokemon = Pokemon(json)\n",
    "    pokemons.append(pokemon)\n",
    "    if app.downloadEnabled:\n",
    "        print(pokemon.names['english'])\n",
    "        downloadImage(pokemon.imageUrl, f\"{pokemon.id}\")\n",
    "    if not pokemon.id % 50:\n",
    "        print(f\"\\n--- {pokemon.id}/{app.nbrPokemons} ---\\n\")\n",
    "        \n",
    "def prettyPrintJSON(json):\n",
    "    print(JSON.dumps(json, indent=4, sort_keys=True))"
   ]
  },
  {
   "cell_type": "code",
   "execution_count": 6,
   "metadata": {},
   "outputs": [],
   "source": [
    "def getImage(pokemon):\n",
    "    return requests.get(pokemon.imageUrl)"
   ]
  },
  {
   "cell_type": "code",
   "execution_count": 7,
   "metadata": {
    "scrolled": false
   },
   "outputs": [
    {
     "name": "stdout",
     "output_type": "stream",
     "text": [
      "Number of Pokemons 809\n",
      "\n",
      "\n",
      "--- 50/809 ---\n",
      "\n",
      "\n",
      "--- 100/809 ---\n",
      "\n",
      "\n",
      "--- 150/809 ---\n",
      "\n",
      "\n",
      "--- 200/809 ---\n",
      "\n",
      "\n",
      "--- 250/809 ---\n",
      "\n",
      "\n",
      "--- 300/809 ---\n",
      "\n",
      "\n",
      "--- 350/809 ---\n",
      "\n",
      "\n",
      "--- 400/809 ---\n",
      "\n",
      "\n",
      "--- 450/809 ---\n",
      "\n",
      "\n",
      "--- 500/809 ---\n",
      "\n",
      "\n",
      "--- 550/809 ---\n",
      "\n",
      "\n",
      "--- 600/809 ---\n",
      "\n",
      "\n",
      "--- 650/809 ---\n",
      "\n",
      "\n",
      "--- 700/809 ---\n",
      "\n",
      "\n",
      "--- 750/809 ---\n",
      "\n",
      "\n",
      "--- 800/809 ---\n",
      "\n"
     ]
    }
   ],
   "source": [
    "if __name__ == \"__main__\":\n",
    "    url = \"https://raw.githubusercontent.com/fanzeyi/pokemon.json/master/pokedex.json\"\n",
    "    pokemons = []\n",
    "    app = App(\"Pokedex\", pokemons)\n",
    "    showHeader()\n",
    "    handleData(url)\n",
    "    app.downloadEnabled = False\n",
    "    app.start()"
   ]
  }
 ],
 "metadata": {
  "kernelspec": {
   "display_name": "Python 3",
   "language": "python",
   "name": "python3"
  },
  "language_info": {
   "codemirror_mode": {
    "name": "ipython",
    "version": 3
   },
   "file_extension": ".py",
   "mimetype": "text/x-python",
   "name": "python",
   "nbconvert_exporter": "python",
   "pygments_lexer": "ipython3",
   "version": "3.7.6"
  }
 },
 "nbformat": 4,
 "nbformat_minor": 4
}
